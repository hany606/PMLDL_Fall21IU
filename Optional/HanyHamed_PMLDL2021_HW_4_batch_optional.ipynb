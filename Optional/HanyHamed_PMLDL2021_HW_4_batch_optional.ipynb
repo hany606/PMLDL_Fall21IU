{
  "nbformat": 4,
  "nbformat_minor": 0,
  "metadata": {
    "kernelspec": {
      "display_name": "Python 3",
      "language": "python",
      "name": "python3"
    },
    "language_info": {
      "codemirror_mode": {
        "name": "ipython",
        "version": 3
      },
      "file_extension": ".py",
      "mimetype": "text/x-python",
      "name": "python",
      "nbconvert_exporter": "python",
      "pygments_lexer": "ipython3",
      "version": "3.7.6"
    },
    "colab": {
      "name": "HanyHamed_PMLDL2021_HW_4_batch_optional.ipynb",
      "provenance": [],
      "collapsed_sections": [
        "CZVi9MUj_Dzj"
      ],
      "include_colab_link": true
    },
    "accelerator": "GPU"
  },
  "cells": [
    {
      "cell_type": "markdown",
      "metadata": {
        "id": "view-in-github",
        "colab_type": "text"
      },
      "source": [
        "<a href=\"https://colab.research.google.com/github/hany606/PMLDL_Fall21IU/blob/main/Optional/HanyHamed_PMLDL2021_HW_4_batch_optional.ipynb\" target=\"_parent\"><img src=\"https://colab.research.google.com/assets/colab-badge.svg\" alt=\"Open In Colab\"/></a>"
      ]
    },
    {
      "cell_type": "markdown",
      "metadata": {
        "id": "jL5wcxMPCK_0"
      },
      "source": [
        "# Hany Hamed Solution"
      ]
    },
    {
      "cell_type": "code",
      "metadata": {
        "id": "zCrCqMw1_DzS"
      },
      "source": [
        "%matplotlib inline"
      ],
      "execution_count": null,
      "outputs": []
    },
    {
      "cell_type": "markdown",
      "metadata": {
        "id": "JsuB8Nid_DzV"
      },
      "source": [
        "PML&DL Homework (optional)\n",
        "=============================\n",
        "Based on the Tutorial: https://docs.dgl.ai/en/0.4.x/tutorials/basics/4_batch.html \n",
        "\n",
        "Instructions for the assignment are given in tags: [PMLDL] ... [/PMLDL]\n",
        "\n",
        "Graph classification is an important problem\n",
        "with applications across many fields, such as bioinformatics, chemoinformatics, social\n",
        "network analysis, urban computing, and cybersecurity. Applying graph neural\n",
        "networks to this problem has been a popular approach recently. This can be seen in the following reserach references: \n",
        "`Ying et al., 2018 <https://arxiv.org/abs/1806.08804>`_,\n",
        "`Cangea et al., 2018 <https://arxiv.org/abs/1811.01287>`_,\n",
        "`Knyazev et al., 2018 <https://arxiv.org/abs/1811.09595>`_,\n",
        "`Bianchi et al., 2019 <https://arxiv.org/abs/1901.01343>`_,\n",
        "`Liao et al., 2019 <https://arxiv.org/abs/1901.01484>`_,\n",
        "`Gao et al., 2019 <https://openreview.net/forum?id=HJePRoAct7>`_).\n"
      ]
    },
    {
      "cell_type": "markdown",
      "metadata": {
        "id": "DBOFmi4C_DzX"
      },
      "source": [
        "Simple graph classification task\n",
        "--------------------------------\n",
        "In this tutorial, you learn how to perform batched graph classification\n",
        "with DGL. The example task objective is to classify eight types of topologies shown here.\n",
        "\n",
        "![](https://data.dgl.ai/tutorial/batch/dataset_overview.png)\n",
        "\n",
        "    :align: center\n",
        "\n",
        "Implement a synthetic dataset :class:`data.MiniGCDataset` in DGL. The dataset has eight \n",
        "different types of graphs and each class has the same number of graph samples.\n",
        "\n"
      ]
    },
    {
      "cell_type": "code",
      "metadata": {
        "colab": {
          "base_uri": "https://localhost:8080/"
        },
        "id": "bM1WodOo_DzZ",
        "outputId": "54a85037-64e3-42eb-c9ac-6696fb8df34b"
      },
      "source": [
        "pip install dgl-cu113 -f https://data.dgl.ai/wheels/repo.html\n"
      ],
      "execution_count": 2,
      "outputs": [
        {
          "output_type": "stream",
          "name": "stdout",
          "text": [
            "Looking in links: https://data.dgl.ai/wheels/repo.html\n",
            "Collecting dgl-cu113\n",
            "  Downloading https://data.dgl.ai/wheels/dgl_cu113-0.7.2-cp37-cp37m-manylinux1_x86_64.whl (152.9 MB)\n",
            "\u001b[K     |████████████████████████████████| 152.9 MB 37 kB/s \n",
            "\u001b[?25hRequirement already satisfied: networkx>=2.1 in /usr/local/lib/python3.7/dist-packages (from dgl-cu113) (2.6.3)\n",
            "Requirement already satisfied: requests>=2.19.0 in /usr/local/lib/python3.7/dist-packages (from dgl-cu113) (2.23.0)\n",
            "Requirement already satisfied: scipy>=1.1.0 in /usr/local/lib/python3.7/dist-packages (from dgl-cu113) (1.4.1)\n",
            "Requirement already satisfied: numpy>=1.14.0 in /usr/local/lib/python3.7/dist-packages (from dgl-cu113) (1.19.5)\n",
            "Requirement already satisfied: urllib3!=1.25.0,!=1.25.1,<1.26,>=1.21.1 in /usr/local/lib/python3.7/dist-packages (from requests>=2.19.0->dgl-cu113) (1.24.3)\n",
            "Requirement already satisfied: chardet<4,>=3.0.2 in /usr/local/lib/python3.7/dist-packages (from requests>=2.19.0->dgl-cu113) (3.0.4)\n",
            "Requirement already satisfied: certifi>=2017.4.17 in /usr/local/lib/python3.7/dist-packages (from requests>=2.19.0->dgl-cu113) (2021.10.8)\n",
            "Requirement already satisfied: idna<3,>=2.5 in /usr/local/lib/python3.7/dist-packages (from requests>=2.19.0->dgl-cu113) (2.10)\n",
            "Installing collected packages: dgl-cu113\n",
            "Successfully installed dgl-cu113-0.7.2\n"
          ]
        }
      ]
    },
    {
      "cell_type": "code",
      "metadata": {
        "id": "pjv-O-a1_Dza"
      },
      "source": [
        "import dgl\n",
        "from dgl.data import MiniGCDataset\n",
        "import numpy as np\n",
        "import dgl.contrib.sampling.randomwalk\n",
        "\n",
        "# Sources to check: \n",
        "# https://towardsdatascience.com/node2vec-embeddings-for-graph-data-32a866340fef\n",
        "# http://mccormickml.com/2016/04/19/word2vec-tutorial-the-skip-gram-model/\n",
        "# https://github.com/eliorc/Medium/blob/master/Nod2Vec-FIFA17-Example.ipynb\n",
        "# https://towardsdatascience.com/complete-guide-to-understanding-node2vec-algorithm-4e9a35e5d147\n",
        "# https://stellargraph.readthedocs.io/en/stable/demos/node-classification/node2vec-node-classification.html\n",
        "# https://stellargraph.readthedocs.io/en/stable/demos/embeddings/node2vec-embeddings.html\n",
        "\n",
        "'''\n",
        "[PMLDL]\n",
        "Check the MiniGCDataset source code and implement a class that generated a vector of features for each node (e.g. using node2vec).\n",
        "So, result would be a YourNameItGCDataset class. \n",
        "[/PMLDL]\n",
        "''' \n",
        "\n",
        "class HanyHamedGCDataset(MiniGCDataset):\n",
        "    def __init__(self, *args, **kwargs):\n",
        "        # self.dimensions = kwargs.get(\"dimensions\", 50) \n",
        "        self.walk_length = kwargs.get(\"walk_length\", 50) \n",
        "        self.num_walks = kwargs.get(\"num_walks\", 1) \n",
        "\n",
        "        kwargs.pop(\"walk_length\", None)\n",
        "        kwargs.pop(\"num_walks\", None)\n",
        "\n",
        "        super(HanyHamedGCDataset, self).__init__(*args, **kwargs)\n",
        "        self. walk_length -= 1\n",
        "        # self.model_features = self.gen_feature_vector(self.graphs, dimensions=dimensions, walk_length=walk_length, num_walks=num_walks, window=window, min_count=min_count)\n",
        "        # self.edges_embs = HadamardEmbedder(keyed_vectors=self.model_features.wv)\n",
        "\n",
        "    def gen_feature_vector(self, g, dimensions, walk_length, num_walks, window, min_count):\n",
        "        # Compute the feature vector\n",
        "        # Source: https://towardsdatascience.com/node2vec-embeddings-for-graph-data-32a866340fef\n",
        "        g_networkx = dgl.batch(g).to_networkx()\n",
        "        node2vec = Node2Vec(g_networkx, dimensions=dimensions, walk_length=walk_length, num_walks=num_walks)\n",
        "        model = node2vec.fit(window=window, min_count=min_count)\n",
        "        # print(dgl.batch(g).nodes())\n",
        "        # Do node2vec using word2vec (Source: https://stellargraph.readthedocs.io/en/stable/demos/node-classification/node2vec-node-classification.html) \n",
        "        # nodes = dgl.batch(g).nodes()\n",
        "        # dgl.sampling.random_walk(g.nodes(), [0, 1, 2, 0], length=walk_length)\n",
        "        # str_walks = [[str(n) for n in walk] for walk in walks]\n",
        "        # from gensim.models import Word2Vec\n",
        "        # model = Word2Vec(str_walks, size=128, window=5, min_count=0, sg=1, workers=2, iter=1)\n",
        "\n",
        "        return model\n",
        "\n",
        "\n",
        "    def __getitem__(self, idx):\n",
        "        # Source: https://github.com/eliorc/Medium/blob/master/Nod2Vec-FIFA17-Example.ipynb\n",
        "        # model_features = self.gen_feature_vector(self.graphs[idx], dimensions=dimensions, walk_length=walk_length, num_walks=num_walks, window=window, min_count=min_count)\n",
        "        # print(self.graphs[idx])\n",
        "        # nodes = [x for x in model.wv.vocab if len(x) > 3 and x not in clubs]\n",
        "        # embeddings = np.array(self.model_features.wv[self.graphs[idx].nodes()])\n",
        "        # Source: https://github.com/eliorc/node2vec\n",
        "        # self.edges_embs = HadamardEmbedder(keyed_vectors=self.model_features.wv)\n",
        "        # print(edges_embs[('1', '2')])\n",
        "        # print(self.graphs[idx].edges())\n",
        "        # embeddings = self.edges_embs[self.graphs[idx].edges()]\n",
        "        # embeddings = self.model_features.wv[self.graphs[idx].nodes()]\n",
        "        # embeddings = dgl.sampling.node2vec_random_walk(self.graphs[idx], np.random.randint(len(self.graphs[idx].nodes()), size=len(self.graphs[idx].in_degrees())), 1, 1, walk_length=self.walk_length)\n",
        "        embeddings = dgl.sampling.node2vec_random_walk(self.graphs[idx], np.random.randint(len(self.graphs[idx].nodes()), size=self.num_walks), 1, 1, walk_length=self.walk_length)\n",
        "        return self.graphs[idx], embeddings, self.labels[idx]\n",
        "\n",
        "\n",
        "import matplotlib.pyplot as plt\n",
        "import networkx as nx\n",
        "# A dataset with 80 samples, each graph is\n",
        "# of size [10, 20]\n",
        "# dataset = MiniGCDataset(80, 10, 20)\n",
        "# graph, label = dataset[0]\n",
        "\n",
        "'''\n",
        "[PMLDL]\n",
        "\n",
        "Here YourNameItGCDataset dataset[0] should return a three elements: \n",
        "graph, node_features, label = dataset[0]\n",
        "node_features stores all node features of the graph\n",
        "\n",
        "[/PMLDL]\n",
        "''' \n",
        "dataset = HanyHamedGCDataset(80, 10, 20)\n",
        "graph, node_features, label = dataset[0]\n",
        "\n"
      ],
      "execution_count": 109,
      "outputs": []
    },
    {
      "cell_type": "markdown",
      "metadata": {
        "id": "EABhXg_c_Dzc"
      },
      "source": [
        "Form a graph mini-batch\n",
        "-----------------------\n",
        "To train neural networks efficiently, a common practice is to batch\n",
        "multiple samples together to form a mini-batch. Batching fixed-shaped tensor\n",
        "inputs is common. For example, batching two images of size 28 x 28\n",
        "gives a tensor of shape 2 x 28 x 28. By contrast, batching graph inputs\n",
        "has two challenges:\n",
        "\n",
        "* Graphs are sparse.\n",
        "* Graphs can have various length. For example, number of nodes and edges.\n",
        "\n",
        "To address this, DGL provides a :func:`dgl.batch` API. It leverages the idea that\n",
        "a batch of graphs can be viewed as a large graph that has many disjointed \n",
        "connected components. Below is a visualization that gives the general idea.\n",
        "\n",
        "![](https://data.dgl.ai/tutorial/batch/batch.png)\n",
        "\n",
        "    :width: 400pt\n",
        "    :align: center\n",
        "\n",
        "Define the following ``collate`` function to form a mini-batch from a given\n",
        "list of graph and label pairs.\n",
        "\n"
      ]
    },
    {
      "cell_type": "code",
      "metadata": {
        "id": "EQTQ8dfS_Dzd"
      },
      "source": [
        "import dgl\n",
        "import torch\n",
        "\n",
        "def collate(samples):\n",
        "    # The input `samples` is a list of pairs\n",
        "    #  (graph, label).\n",
        "    graphs, labels = map(list, zip(*samples))\n",
        "    batched_graph = dgl.batch(graphs)\n",
        "    return batched_graph, torch.tensor(labels)\n",
        "\n",
        "'''\n",
        "[PMLDL]\n",
        "\n",
        "Here you need to implement a new version of the collate(...) function.\n",
        "New version should collate (stack) the graph, features and labels in a mini-batch.\n",
        "\n",
        "[/PMLDL]\n",
        "''' \n",
        "\n",
        "def new_collate(samples):\n",
        "    graphs, node_features, labels = map(list, zip(*samples))\n",
        "    node_features = torch.cat(node_features, dim=0)\n",
        "    batched_graph = dgl.batch(graphs)\n",
        "    return batched_graph, node_features, torch.tensor(labels)\n"
      ],
      "execution_count": 33,
      "outputs": []
    },
    {
      "cell_type": "markdown",
      "metadata": {
        "id": "Q6DN6gUu_Dzd"
      },
      "source": [
        "The return type of :func:`dgl.batch` is still a graph. In the same way, \n",
        "a batch of tensors is still a tensor. This means that any code that works\n",
        "for one graph immediately works for a batch of graphs. More importantly,\n",
        "because DGL processes messages on all nodes and edges in parallel, this greatly\n",
        "improves efficiency.\n",
        "\n",
        "Graph classifier\n",
        "----------------\n",
        "Graph classification proceeds as follows.\n",
        "\n",
        "![](https://data.dgl.ai/tutorial/batch/graph_classifier.png)\n",
        "\n",
        "\n",
        "From a batch of graphs, perform message passing and graph convolution\n",
        "for nodes to communicate with others. After message passing, compute a\n",
        "tensor for graph representation from node (and edge) attributes. This step might \n",
        "be called readout or aggregation. Finally, the graph \n",
        "representations are fed into a classifier $g$ to predict the graph labels.\n",
        "\n",
        "Graph convolution layer can be found in the ``dgl.nn.<backend>`` submodule.\n",
        "\n"
      ]
    },
    {
      "cell_type": "code",
      "metadata": {
        "id": "p16eMTmm_Dze"
      },
      "source": [
        "from dgl.nn.pytorch import GraphConv"
      ],
      "execution_count": 10,
      "outputs": []
    },
    {
      "cell_type": "markdown",
      "metadata": {
        "id": "nUwRhUKT_Dzf"
      },
      "source": [
        "Readout and classification\n",
        "--------------------------\n",
        "For this demonstration, consider initial node features to be their degrees.\n",
        "After two rounds of graph convolution, perform a graph readout by averaging\n",
        "over all node features for each graph in the batch.\n",
        "\n",
        "\\begin{align}h_g=\\frac{1}{|\\mathcal{V}|}\\sum_{v\\in\\mathcal{V}}h_{v}\\end{align}\n",
        "\n",
        "In DGL, :func:`dgl.mean_nodes` handles this task for a batch of\n",
        "graphs with variable size. You then feed the graph representations into a\n",
        "classifier with one linear layer to obtain pre-softmax logits.\n",
        "\n"
      ]
    },
    {
      "cell_type": "code",
      "metadata": {
        "id": "TocZJGji_Dzg"
      },
      "source": [
        "import torch.nn as nn\n",
        "import torch.nn.functional as F\n",
        "\n",
        "class Classifier(nn.Module):\n",
        "    def __init__(self, in_dim, hidden_dim, n_classes):\n",
        "        super(Classifier, self).__init__()\n",
        "        self.fc1 = nn.Linear(in_dim, hidden_dim)\n",
        "        self.fc2 = nn.Linear(hidden_dim, hidden_dim)\n",
        "\n",
        "        self.conv1 = GraphConv(in_dim, hidden_dim)#, norm=\"none\")\n",
        "        self.conv2 = GraphConv(hidden_dim, hidden_dim)\n",
        "        self.classify = nn.Linear(hidden_dim, n_classes)\n",
        "\n",
        "    def forward(self, g, features):\n",
        "        '''\n",
        "        [PMLDL]\n",
        "        This call: h = g.in_degrees().view(-1, 1).float()\n",
        "        feeds nodes degees list into input of the GCN (so, in_dim == 1).\n",
        "\n",
        "        Here you need to change the code to feed features of nodes into input layer.\n",
        "        Thus, in_dim will be the dimension of a feature-vector (say, 50). \n",
        "        In the lecture slides such vector for a node v was called x_v\n",
        "\n",
        "        [/PMLDL]\n",
        "        ''' \n",
        "\n",
        "        '''\n",
        "        Reply: \n",
        "            From GraphConv -> def forward(self, graph, feat, weight=None, edge_weight=None):\n",
        "            However, when I pass the features, I got the following error\n",
        "            \"RuntimeError: The size of tensor a (32) must match the size of tensor b (443) at non-singleton dimension 0\"\n",
        "\n",
        "            Also, when specifying the in_dim as 50 I got the following error which seems that the matrix of weights should be \n",
        "            mat1 and mat2 shapes cannot be multiplied (418x1 and 50x256)\n",
        "\n",
        "            So, it is some part of the code, the matrix dimension is related to the number of the in-degree of the nodes in the graph\n",
        "\n",
        "            Thus, I have changed the layers to normal FC to feed forward the feature vector\n",
        "        '''\n",
        "        # This works somehow for having GraphConv\n",
        "        # But the in_dim should be 1 not 50\n",
        "        # h = features.view(-1, 1)[:len(g.in_degrees())]\n",
        "        # # Perform graph convolution and activation function.\n",
        "        # h = F.relu(self.conv1(g, h))\n",
        "        # h = F.relu(self.conv2(g, h))\n",
        "        # g.ndata['h'] = h\n",
        "        # # Calculate graph representation by averaging all the node representations.\n",
        "        # hg = dgl.mean_nodes(g, 'h')\n",
        "        # return self.classify(hg)\n",
        "\n",
        "        h = F.relu(self.fc1(features.float()))\n",
        "        h = F.relu(self.fc2(h))\n",
        "        return self.classify(h)\n"
      ],
      "execution_count": 111,
      "outputs": []
    },
    {
      "cell_type": "markdown",
      "metadata": {
        "id": "QgnAqk4K_Dzg"
      },
      "source": [
        "Setup and training\n",
        "------------------\n",
        "Create a synthetic dataset of $400$ graphs with $10$ ~\n",
        "$20$ nodes. $320$ graphs constitute a training set and\n",
        "$80$ graphs constitute a test set.\n",
        "\n"
      ]
    },
    {
      "cell_type": "code",
      "metadata": {
        "id": "774QvzgY_Dzh",
        "outputId": "d6d156d9-46e1-4cdd-8a5c-07d8aed677ba",
        "colab": {
          "base_uri": "https://localhost:8080/"
        }
      },
      "source": [
        "import torch.optim as optim\n",
        "from torch.utils.data import DataLoader\n",
        "\n",
        "# Create training and test sets.\n",
        "'''\n",
        "[PMLDL]\n",
        "\n",
        "Here calls to the YourNameItGCDataset class\n",
        "\n",
        "[/PMLDL]\n",
        "''' \n",
        "# trainset = MiniGCDataset(320, 10, 20)\n",
        "# testset = MiniGCDataset(80, 10, 20)\n",
        "\n",
        "trainset = HanyHamedGCDataset(320, 10, 20, walk_length=50)\n",
        "testset = HanyHamedGCDataset(80, 10, 20, walk_length=50)\n",
        "\n",
        "\n",
        "# Use PyTorch's DataLoader and the collate function\n",
        "# defined before.\n",
        "'''\n",
        "[PMLDL]\n",
        "\n",
        "Here pass new version of collate()\n",
        "\n",
        "[/PMLDL]\n",
        "''' \n",
        "# data_loader = DataLoader(trainset, batch_size=32, shuffle=True,\n",
        "#                          collate_fn=collate)\n",
        "\n",
        "data_loader = DataLoader(trainset, batch_size=32, shuffle=True,\n",
        "                         collate_fn=new_collate)\n",
        "\n",
        "\n",
        "# Create model\n",
        "'''\n",
        "[PMLDL]\n",
        "\n",
        "Here pass new dimension of input (say, 50) as the first parameter.\n",
        "\n",
        "[/PMLDL]\n",
        "''' \n",
        "\n",
        "# model = Classifier(1, 256, trainset.num_classes)\n",
        "# model = Classifier(1, 256, trainset.num_classes)\n",
        "model = Classifier(50, 256, trainset.num_classes)\n",
        "\n",
        "loss_func = nn.CrossEntropyLoss()\n",
        "optimizer = optim.Adam(model.parameters(), lr=0.003)\n",
        "model.train()\n",
        "\n",
        "epoch_losses = []\n",
        "for epoch in range(80):\n",
        "    epoch_loss = 0\n",
        "    for iter, (bg, features, label) in enumerate(data_loader):\n",
        "        # print(iter)\n",
        "        prediction = model(bg, features)\n",
        "        loss = loss_func(prediction, label)\n",
        "        optimizer.zero_grad()\n",
        "        loss.backward()\n",
        "        optimizer.step()\n",
        "        epoch_loss += loss.detach().item()\n",
        "        # print('Epoch {}, loss {:.4f}'.format(iter, epoch_loss))\n",
        "    epoch_loss /= (iter + 1)\n",
        "    print('Epoch {}, loss {:.4f}'.format(epoch, epoch_loss))\n",
        "    epoch_losses.append(epoch_loss)"
      ],
      "execution_count": 112,
      "outputs": [
        {
          "output_type": "stream",
          "name": "stdout",
          "text": [
            "Epoch 0, loss 2.5636\n",
            "Epoch 1, loss 2.0684\n",
            "Epoch 2, loss 1.9937\n",
            "Epoch 3, loss 1.8868\n",
            "Epoch 4, loss 1.8025\n",
            "Epoch 5, loss 1.8171\n",
            "Epoch 6, loss 1.9123\n",
            "Epoch 7, loss 1.7805\n",
            "Epoch 8, loss 1.7166\n",
            "Epoch 9, loss 1.6958\n",
            "Epoch 10, loss 1.6968\n",
            "Epoch 11, loss 1.6946\n",
            "Epoch 12, loss 1.6038\n",
            "Epoch 13, loss 1.6266\n",
            "Epoch 14, loss 1.7650\n",
            "Epoch 15, loss 1.6501\n",
            "Epoch 16, loss 1.5981\n",
            "Epoch 17, loss 1.6174\n",
            "Epoch 18, loss 1.5785\n",
            "Epoch 19, loss 1.5537\n",
            "Epoch 20, loss 1.5776\n",
            "Epoch 21, loss 1.4827\n",
            "Epoch 22, loss 1.5250\n",
            "Epoch 23, loss 1.5682\n",
            "Epoch 24, loss 1.4929\n",
            "Epoch 25, loss 1.4253\n",
            "Epoch 26, loss 1.5012\n",
            "Epoch 27, loss 1.5129\n",
            "Epoch 28, loss 1.4968\n",
            "Epoch 29, loss 1.4650\n",
            "Epoch 30, loss 1.4796\n",
            "Epoch 31, loss 1.4907\n",
            "Epoch 32, loss 1.4417\n",
            "Epoch 33, loss 1.4887\n",
            "Epoch 34, loss 1.4710\n",
            "Epoch 35, loss 1.5447\n",
            "Epoch 36, loss 1.4465\n",
            "Epoch 37, loss 1.4268\n",
            "Epoch 38, loss 1.4153\n",
            "Epoch 39, loss 1.5202\n",
            "Epoch 40, loss 1.5098\n",
            "Epoch 41, loss 1.4519\n",
            "Epoch 42, loss 1.4201\n",
            "Epoch 43, loss 1.3994\n",
            "Epoch 44, loss 1.3619\n",
            "Epoch 45, loss 1.4629\n",
            "Epoch 46, loss 1.4043\n",
            "Epoch 47, loss 1.4282\n",
            "Epoch 48, loss 1.4661\n",
            "Epoch 49, loss 1.3471\n",
            "Epoch 50, loss 1.3884\n",
            "Epoch 51, loss 1.4016\n",
            "Epoch 52, loss 1.4274\n",
            "Epoch 53, loss 1.4038\n",
            "Epoch 54, loss 1.4496\n",
            "Epoch 55, loss 1.3202\n",
            "Epoch 56, loss 1.3929\n",
            "Epoch 57, loss 1.3958\n",
            "Epoch 58, loss 1.4613\n",
            "Epoch 59, loss 1.4907\n",
            "Epoch 60, loss 1.3868\n",
            "Epoch 61, loss 1.4284\n",
            "Epoch 62, loss 1.3789\n",
            "Epoch 63, loss 1.2928\n",
            "Epoch 64, loss 1.2930\n",
            "Epoch 65, loss 1.3862\n",
            "Epoch 66, loss 1.3581\n",
            "Epoch 67, loss 1.2985\n",
            "Epoch 68, loss 1.2571\n",
            "Epoch 69, loss 1.2762\n",
            "Epoch 70, loss 1.3205\n",
            "Epoch 71, loss 1.3457\n",
            "Epoch 72, loss 1.3791\n",
            "Epoch 73, loss 1.2876\n",
            "Epoch 74, loss 1.3786\n",
            "Epoch 75, loss 1.2873\n",
            "Epoch 76, loss 1.2667\n",
            "Epoch 77, loss 1.2818\n",
            "Epoch 78, loss 1.2803\n",
            "Epoch 79, loss 1.2917\n"
          ]
        }
      ]
    },
    {
      "cell_type": "markdown",
      "metadata": {
        "id": "qDF0Fp21_Dzh"
      },
      "source": [
        "The learning curve of a run is presented below.\n",
        "\n"
      ]
    },
    {
      "cell_type": "code",
      "metadata": {
        "id": "N9kHyaax_Dzi",
        "outputId": "7bc0476c-1a58-4ec1-b3af-7db0c6892e4a",
        "colab": {
          "base_uri": "https://localhost:8080/",
          "height": 281
        }
      },
      "source": [
        "plt.title('cross entropy averaged over minibatches')\n",
        "plt.plot(epoch_losses)\n",
        "plt.show()"
      ],
      "execution_count": 113,
      "outputs": [
        {
          "output_type": "display_data",
          "data": {
            "image/png": "[encoded data removed]",
            "text/plain": [
              "<Figure size 432x288 with 1 Axes>"
            ]
          },
          "metadata": {
            "needs_background": "light"
          }
        }
      ]
    },
    {
      "cell_type": "markdown",
      "metadata": {
        "id": "XX7jEnlJ_Dzi"
      },
      "source": [
        "The trained model is evaluated on the test set created. To deploy\n",
        "the tutorial, restrict the running time to get a higher\n",
        "accuracy ($80$ % ~ $90$ %) than the ones printed below.\n",
        "\n"
      ]
    },
    {
      "cell_type": "code",
      "metadata": {
        "id": "OFVLC9pL_Dzi",
        "outputId": "a71822ae-5988-4e35-b9da-a39d724d215d",
        "colab": {
          "base_uri": "https://localhost:8080/"
        }
      },
      "source": [
        "model.eval()\n",
        "# Convert a list of tuples to two lists\n",
        "'''\n",
        "[PMLDL]\n",
        "\n",
        "Slightly modify this code to evaluate results, as batch should contain three elements\n",
        "\n",
        "[/PMLDL]\n",
        "''' \n",
        "test_X, test_F, test_Y = map(list, zip(*testset))\n",
        "test_bg = dgl.batch(test_X)\n",
        "test_Y = torch.tensor(test_Y).float().view(-1, 1)\n",
        "test_F = torch.cat(test_F, dim=0)\n",
        "probs_Y = torch.softmax(model(test_bg, test_F), 1)\n",
        "sampled_Y = torch.multinomial(probs_Y, 1)\n",
        "argmax_Y = torch.max(probs_Y, 1)[1].view(-1, 1)\n",
        "print('Accuracy of sampled predictions on the test set: {:.4f}%'.format(\n",
        "    (test_Y == sampled_Y.float()).sum().item() / len(test_Y) * 100))\n",
        "print('Accuracy of argmax predictions on the test set: {:4f}%'.format(\n",
        "    (test_Y == argmax_Y.float()).sum().item() / len(test_Y) * 100))"
      ],
      "execution_count": 114,
      "outputs": [
        {
          "output_type": "stream",
          "name": "stdout",
          "text": [
            "Accuracy of sampled predictions on the test set: 35.0000%\n",
            "Accuracy of argmax predictions on the test set: 50.000000%\n"
          ]
        }
      ]
    },
    {
      "cell_type": "markdown",
      "metadata": {
        "id": "CZVi9MUj_Dzj"
      },
      "source": [
        "\n",
        "\n",
        "What's next?\n",
        "------------\n",
        "Graph classification with graph neural networks is still a new field.\n",
        "It's waiting for people to bring more exciting discoveries. The work requires \n",
        "mapping different graphs to different embeddings, while preserving\n",
        "their structural similarity in the embedding space. To learn more about it, see \n",
        "`How Powerful Are Graph Neural Networks? <https://arxiv.org/abs/1810.00826>`_ a research paper  \n",
        "published for the International Conference on Learning Representations 2019.\n",
        "\n",
        "For more examples about batched graph processing, see the following:\n",
        "\n",
        "* Tutorials for `Tree LSTM <https://docs.dgl.ai/tutorials/models/2_small_graph/3_tree-lstm.html>`_ and `Deep Generative Models of Graphs <https://docs.dgl.ai/tutorials/models/3_generative_model/5_dgmg.html>`_\n",
        "* An example implementation of `Junction Tree VAE <https://github.com/dmlc/dgl/tree/master/examples/pytorch/jtnn>`_\n",
        "\n"
      ]
    }
  ]
}